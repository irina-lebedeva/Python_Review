{
  "nbformat": 4,
  "nbformat_minor": 0,
  "metadata": {
    "colab": {
      "name": "Numpy_Scipy_Review",
      "provenance": [],
      "authorship_tag": "ABX9TyMxXhzbvpdMT4+qOjFRFxeT",
      "include_colab_link": true
    },
    "kernelspec": {
      "name": "python3",
      "display_name": "Python 3"
    },
    "language_info": {
      "name": "python"
    }
  },
  "cells": [
    {
      "cell_type": "markdown",
      "metadata": {
        "id": "view-in-github",
        "colab_type": "text"
      },
      "source": [
        "<a href=\"https://colab.research.google.com/github/irina-lebedeva/Python_Review/blob/main/Numpy_Scipy_Review.ipynb\" target=\"_parent\"><img src=\"https://colab.research.google.com/assets/colab-badge.svg\" alt=\"Open In Colab\"/></a>"
      ]
    },
    {
      "cell_type": "code",
      "metadata": {
        "colab": {
          "base_uri": "https://localhost:8080/"
        },
        "id": "HV1X5sRAWyrE",
        "outputId": "d49a8c66-5ae4-49d5-ccf1-e4052cf04d81"
      },
      "source": [
        "import numpy as np\n",
        "\n",
        "a = np.array([[1,2],\n",
        "     [3,4],\n",
        "     [5,6],\n",
        "     [7,8]])\n",
        "\n",
        "b = np.array([[0,0],\n",
        "              [0,1]])\n",
        "\n",
        "c = np.dot(a,b)\n",
        "c "
      ],
      "execution_count": null,
      "outputs": [
        {
          "output_type": "execute_result",
          "data": {
            "text/plain": [
              "array([[0, 2],\n",
              "       [0, 4],\n",
              "       [0, 6],\n",
              "       [0, 8]])"
            ]
          },
          "metadata": {},
          "execution_count": 8
        }
      ]
    },
    {
      "cell_type": "code",
      "metadata": {
        "colab": {
          "base_uri": "https://localhost:8080/"
        },
        "id": "7oFfdQIGsGde",
        "outputId": "755a8962-a1c8-4fad-fafa-7ff7e7606bfe"
      },
      "source": [
        "print(a/89)"
      ],
      "execution_count": null,
      "outputs": [
        {
          "output_type": "stream",
          "name": "stdout",
          "text": [
            "[[0.01123596 0.02247191]\n",
            " [0.03370787 0.04494382]\n",
            " [0.05617978 0.06741573]\n",
            " [0.07865169 0.08988764]]\n"
          ]
        }
      ]
    },
    {
      "cell_type": "code",
      "metadata": {
        "colab": {
          "base_uri": "https://localhost:8080/"
        },
        "id": "VJLj8uD1sM_1",
        "outputId": "56e60316-43d0-4f2e-d70a-5244f54c6637"
      },
      "source": [
        "x = [[3.,4,1],\n",
        "     [1,2,3]]\n",
        "a = np.array(x)     \n",
        "a.dtype"
      ],
      "execution_count": null,
      "outputs": [
        {
          "output_type": "execute_result",
          "data": {
            "text/plain": [
              "dtype('float64')"
            ]
          },
          "metadata": {},
          "execution_count": 13
        }
      ]
    },
    {
      "cell_type": "code",
      "metadata": {
        "colab": {
          "base_uri": "https://localhost:8080/"
        },
        "id": "QnSysgu3tURr",
        "outputId": "179e8405-6186-4919-988e-a279b49e50f6"
      },
      "source": [
        "a.astype(int)"
      ],
      "execution_count": null,
      "outputs": [
        {
          "output_type": "execute_result",
          "data": {
            "text/plain": [
              "array([[3, 4, 1],\n",
              "       [1, 2, 3]])"
            ]
          },
          "metadata": {},
          "execution_count": 14
        }
      ]
    },
    {
      "cell_type": "code",
      "metadata": {
        "colab": {
          "base_uri": "https://localhost:8080/"
        },
        "id": "kvwWq2VBuYh4",
        "outputId": "df9d44e1-bdc7-42ed-ea60-390d566024e9"
      },
      "source": [
        "a = np.array([1,2,0,3,4])\n",
        "a.std(), a.sum(), a.mean(), a.max()"
      ],
      "execution_count": null,
      "outputs": [
        {
          "output_type": "execute_result",
          "data": {
            "text/plain": [
              "(1.4142135623730951, 10, 2.0, 4)"
            ]
          },
          "metadata": {},
          "execution_count": 17
        }
      ]
    },
    {
      "cell_type": "code",
      "metadata": {
        "colab": {
          "base_uri": "https://localhost:8080/"
        },
        "id": "WUeePI8zvtil",
        "outputId": "3d0e41f1-2ca7-4613-b1b6-8f1bf51d5c8a"
      },
      "source": [
        "b = np.arange(9, -1, -1)\n",
        "b.sort()\n",
        "print('sort {}'.format(b))"
      ],
      "execution_count": null,
      "outputs": [
        {
          "output_type": "stream",
          "name": "stdout",
          "text": [
            "sort [0 1 2 3 4 5 6 7 8 9]\n"
          ]
        }
      ]
    },
    {
      "cell_type": "code",
      "metadata": {
        "id": "-CmMXV1qw_9H"
      },
      "source": [
        "b = np.delete(b,[5,7])"
      ],
      "execution_count": null,
      "outputs": []
    },
    {
      "cell_type": "code",
      "metadata": {
        "id": "unYS3SiAxMjl"
      },
      "source": [
        "b = np.append(b,[1,2,3])"
      ],
      "execution_count": null,
      "outputs": []
    },
    {
      "cell_type": "code",
      "metadata": {
        "colab": {
          "base_uri": "https://localhost:8080/"
        },
        "id": "0XX8H1VZxk9T",
        "outputId": "b5e3a2fe-8b6e-40af-e3d5-c6d08f0dcec1"
      },
      "source": [
        "b"
      ],
      "execution_count": null,
      "outputs": [
        {
          "output_type": "execute_result",
          "data": {
            "text/plain": [
              "array([0, 1, 2, 3, 4, 6, 8, 9, 1, 2, 3])"
            ]
          },
          "metadata": {},
          "execution_count": 40
        }
      ]
    },
    {
      "cell_type": "code",
      "metadata": {
        "id": "5KefpmzFxnW0"
      },
      "source": [
        "b = np.insert(b, [1,2], [-1,-2])"
      ],
      "execution_count": null,
      "outputs": []
    },
    {
      "cell_type": "code",
      "metadata": {
        "colab": {
          "base_uri": "https://localhost:8080/"
        },
        "id": "uxjTh4S6xwg1",
        "outputId": "e4e738c2-f9ee-49b1-d005-22905f8b60e1"
      },
      "source": [
        "b"
      ],
      "execution_count": null,
      "outputs": [
        {
          "output_type": "execute_result",
          "data": {
            "text/plain": [
              "array([ 0, -1,  1, -2,  2,  3,  4,  6,  8,  9,  1,  2,  3])"
            ]
          },
          "metadata": {},
          "execution_count": 42
        }
      ]
    },
    {
      "cell_type": "code",
      "metadata": {
        "colab": {
          "base_uri": "https://localhost:8080/"
        },
        "id": "w9HF83uqx-DJ",
        "outputId": "477f5703-4d48-403a-c621-26744a2be3bb"
      },
      "source": [
        "a = np.array([[1,2,3],\n",
        "     [4,5,6]])\n",
        "\n",
        "print(a.shape, a.ndim, a.size, len(a))\n",
        "\n"
      ],
      "execution_count": null,
      "outputs": [
        {
          "output_type": "stream",
          "name": "stdout",
          "text": [
            "(2, 3) 2 6 2\n"
          ]
        }
      ]
    },
    {
      "cell_type": "code",
      "metadata": {
        "colab": {
          "base_uri": "https://localhost:8080/"
        },
        "id": "_p6y5FIf2Jb3",
        "outputId": "856f2b36-a411-43e0-9ecf-214a6f4f5dfa"
      },
      "source": [
        "len(a.shape)"
      ],
      "execution_count": null,
      "outputs": [
        {
          "output_type": "execute_result",
          "data": {
            "text/plain": [
              "2"
            ]
          },
          "metadata": {},
          "execution_count": 53
        }
      ]
    },
    {
      "cell_type": "code",
      "metadata": {
        "colab": {
          "base_uri": "https://localhost:8080/"
        },
        "id": "X3R2JjwC5Xxk",
        "outputId": "609cceb3-376c-431a-e666-b9d7c0792803"
      },
      "source": [
        "a.sum(axis = 1)"
      ],
      "execution_count": null,
      "outputs": [
        {
          "output_type": "execute_result",
          "data": {
            "text/plain": [
              "array([ 6, 15])"
            ]
          },
          "metadata": {},
          "execution_count": 60
        }
      ]
    },
    {
      "cell_type": "code",
      "metadata": {
        "colab": {
          "base_uri": "https://localhost:8080/"
        },
        "id": "9doBn1Vm9Ycb",
        "outputId": "2a51babe-c8ae-41ed-bf4c-c326003c9a24"
      },
      "source": [
        "bool_mat = np.array([True, False, True])\n",
        "x = bool_mat.sum() \n",
        "x"
      ],
      "execution_count": null,
      "outputs": [
        {
          "output_type": "execute_result",
          "data": {
            "text/plain": [
              "2"
            ]
          },
          "metadata": {},
          "execution_count": 66
        }
      ]
    },
    {
      "cell_type": "code",
      "metadata": {
        "colab": {
          "base_uri": "https://localhost:8080/"
        },
        "id": "_-C9grc5ECLt",
        "outputId": "7748c89d-8762-4fe0-e1e1-66b2381e9d38"
      },
      "source": [
        "#accuracy calculation\n",
        "\n",
        "y_pred = np.array([1,2,2,1,2,1])\n",
        "y_real = np.array([2,2,2,1,2,2])\n",
        "acc = (y_pred ==y_real).sum()/len(y_pred) \n",
        "acc"
      ],
      "execution_count": null,
      "outputs": [
        {
          "output_type": "execute_result",
          "data": {
            "text/plain": [
              "0.6666666666666666"
            ]
          },
          "metadata": {},
          "execution_count": 69
        }
      ]
    },
    {
      "cell_type": "code",
      "metadata": {
        "colab": {
          "base_uri": "https://localhost:8080/"
        },
        "id": "WNQLzTTpFL2a",
        "outputId": "2b16c86b-b8ec-4cb4-ef2a-01e8bbd3534d"
      },
      "source": [
        "print(list(range(9)))\n",
        "%time print(type(np.arange(9)))"
      ],
      "execution_count": null,
      "outputs": [
        {
          "output_type": "stream",
          "name": "stdout",
          "text": [
            "[0, 1, 2, 3, 4, 5, 6, 7, 8]\n",
            "<class 'numpy.ndarray'>\n",
            "CPU times: user 215 µs, sys: 0 ns, total: 215 µs\n",
            "Wall time: 223 µs\n"
          ]
        }
      ]
    },
    {
      "cell_type": "code",
      "metadata": {
        "colab": {
          "base_uri": "https://localhost:8080/"
        },
        "id": "zq05vdjkJHFt",
        "outputId": "8860599d-974f-4513-b91b-56003c3fce1b"
      },
      "source": [
        "0.5 * np.ones(4) - 1.5 * np.eye(4) "
      ],
      "execution_count": null,
      "outputs": [
        {
          "output_type": "execute_result",
          "data": {
            "text/plain": [
              "array([[-1. ,  0.5,  0.5,  0.5],\n",
              "       [ 0.5, -1. ,  0.5,  0.5],\n",
              "       [ 0.5,  0.5, -1. ,  0.5],\n",
              "       [ 0.5,  0.5,  0.5, -1. ]])"
            ]
          },
          "metadata": {},
          "execution_count": 80
        }
      ]
    },
    {
      "cell_type": "code",
      "metadata": {
        "colab": {
          "base_uri": "https://localhost:8080/"
        },
        "id": "ygSzvZdqLPAR",
        "outputId": "e35fdeb4-4e6e-453f-d9ed-0606ede0f7d9"
      },
      "source": [
        "a = np.array([[1,3],\n",
        "          [6,7]])\n",
        "b = a[None, :]\n",
        "b, b.shape"
      ],
      "execution_count": null,
      "outputs": [
        {
          "output_type": "execute_result",
          "data": {
            "text/plain": [
              "(array([[[1, 3],\n",
              "         [6, 7]]]), (1, 2, 2))"
            ]
          },
          "metadata": {},
          "execution_count": 83
        }
      ]
    },
    {
      "cell_type": "code",
      "metadata": {
        "colab": {
          "base_uri": "https://localhost:8080/"
        },
        "id": "69fXCYk9Oa7Z",
        "outputId": "60f0741c-4dba-47bb-9b6a-99d4350b54f2"
      },
      "source": [
        "a = np.eye(4)[::-1]\n",
        "a"
      ],
      "execution_count": null,
      "outputs": [
        {
          "output_type": "execute_result",
          "data": {
            "text/plain": [
              "array([[0., 0., 0., 1.],\n",
              "       [0., 0., 1., 0.],\n",
              "       [0., 1., 0., 0.],\n",
              "       [1., 0., 0., 0.]])"
            ]
          },
          "metadata": {},
          "execution_count": 91
        }
      ]
    },
    {
      "cell_type": "code",
      "metadata": {
        "id": "pQkJwJi1U0Mn"
      },
      "source": [
        "# solveing a system of linear equations\n",
        "b = np.array([1,\n",
        "              2,\n",
        "              4])\n",
        "a = np.array([[1,3,4],\n",
        "              [2,4,2],\n",
        "              [4,5,1]])"
      ],
      "execution_count": null,
      "outputs": []
    },
    {
      "cell_type": "code",
      "metadata": {
        "colab": {
          "base_uri": "https://localhost:8080/"
        },
        "id": "c6RfnfjTVTOq",
        "outputId": "ef9059f2-28dc-4c7c-c2d5-b590b8c091f4"
      },
      "source": [
        "x = b.dot(np.linalg.inv(a))\n",
        "x"
      ],
      "execution_count": null,
      "outputs": [
        {
          "output_type": "execute_result",
          "data": {
            "text/plain": [
              "array([ 1.5 , -1.25,  0.5 ])"
            ]
          },
          "metadata": {},
          "execution_count": 105
        }
      ]
    },
    {
      "cell_type": "code",
      "metadata": {
        "colab": {
          "base_uri": "https://localhost:8080/"
        },
        "id": "9ctgcn9gWvsl",
        "outputId": "4d581531-decf-4356-f3bf-8b11f8466803"
      },
      "source": [
        "x = np.linalg.solve(a,b)\n",
        "x"
      ],
      "execution_count": null,
      "outputs": [
        {
          "output_type": "execute_result",
          "data": {
            "text/plain": [
              "array([ 1.,  0., -0.])"
            ]
          },
          "metadata": {},
          "execution_count": 106
        }
      ]
    },
    {
      "cell_type": "code",
      "metadata": {
        "id": "mFUG0u4_V_uz"
      },
      "source": [
        ""
      ],
      "execution_count": null,
      "outputs": []
    },
    {
      "cell_type": "code",
      "metadata": {
        "id": "4aXncPC2TXFi"
      },
      "source": [
        "from scipy.optimize import minimize\n",
        "from scipy.integrate import quad\n"
      ],
      "execution_count": null,
      "outputs": []
    },
    {
      "cell_type": "code",
      "metadata": {
        "id": "m0AweZ02XETJ"
      },
      "source": [
        "?minimize"
      ],
      "execution_count": null,
      "outputs": []
    },
    {
      "cell_type": "code",
      "metadata": {
        "id": "wWLm1BoMXgbW"
      },
      "source": [
        "def f(x):\n",
        "    \n",
        "    return x**2\n",
        "\n",
        "def f2(x):\n",
        "    \n",
        "    return np.exp(-x**2)    "
      ],
      "execution_count": null,
      "outputs": []
    },
    {
      "cell_type": "code",
      "metadata": {
        "colab": {
          "base_uri": "https://localhost:8080/",
          "height": 265
        },
        "id": "37DhCQlpXmhv",
        "outputId": "35df8d37-83b3-4e3b-ba13-d87c9be9e9f3"
      },
      "source": [
        "import matplotlib.pyplot as plt\n",
        "\n",
        "x = np.arange(-3,3,.1)\n",
        "plt.plot(x, f(x))\n",
        "plt.show()"
      ],
      "execution_count": null,
      "outputs": [
        {
          "output_type": "display_data",
          "data": {
            "image/png": "[encoded data removed]",
            "text/plain": [
              "<Figure size 432x288 with 1 Axes>"
            ]
          },
          "metadata": {
            "needs_background": "light"
          }
        }
      ]
    },
    {
      "cell_type": "code",
      "metadata": {
        "colab": {
          "base_uri": "https://localhost:8080/",
          "height": 265
        },
        "id": "qzehhKuHZvxT",
        "outputId": "58d7e694-d6e2-4736-da8d-67e0722e2324"
      },
      "source": [
        "plt.plot(x, f2(x))\n",
        "plt.show()"
      ],
      "execution_count": null,
      "outputs": [
        {
          "output_type": "display_data",
          "data": {
            "image/png": "[encoded data removed]",
            "text/plain": [
              "<Figure size 432x288 with 1 Axes>"
            ]
          },
          "metadata": {
            "needs_background": "light"
          }
        }
      ]
    },
    {
      "cell_type": "code",
      "metadata": {
        "colab": {
          "base_uri": "https://localhost:8080/"
        },
        "id": "0nERAZbVYm7b",
        "outputId": "7f569d83-725b-4c04-d170-1fbb5fed8798"
      },
      "source": [
        "result = minimize(f, x0 = 100)\n",
        "result"
      ],
      "execution_count": null,
      "outputs": [
        {
          "output_type": "execute_result",
          "data": {
            "text/plain": [
              "      fun: 5.552074997367714e-17\n",
              " hess_inv: array([[0.50000004]])\n",
              "      jac: array([-1.28826571e-12])\n",
              "  message: 'Optimization terminated successfully.'\n",
              "     nfev: 21\n",
              "      nit: 4\n",
              "     njev: 7\n",
              "   status: 0\n",
              "  success: True\n",
              "        x: array([-7.45122473e-09])"
            ]
          },
          "metadata": {},
          "execution_count": 114
        }
      ]
    },
    {
      "cell_type": "code",
      "metadata": {
        "colab": {
          "base_uri": "https://localhost:8080/"
        },
        "id": "BoEC5juoaID0",
        "outputId": "2469e861-cd5e-44b1-fcc7-70a5d844839e"
      },
      "source": [
        "res, err = quad(f2,0 ,1)\n",
        "res, err"
      ],
      "execution_count": null,
      "outputs": [
        {
          "output_type": "execute_result",
          "data": {
            "text/plain": [
              "(0.7468241328124271, 8.291413475940725e-15)"
            ]
          },
          "metadata": {},
          "execution_count": 122
        }
      ]
    },
    {
      "cell_type": "code",
      "metadata": {
        "id": "EzqfOsVJa3CB"
      },
      "source": [
        "#read image\n",
        "\n",
        "from PIL import Image\n",
        "import requests\n",
        "from"
      ],
      "execution_count": null,
      "outputs": []
    }
  ]
}